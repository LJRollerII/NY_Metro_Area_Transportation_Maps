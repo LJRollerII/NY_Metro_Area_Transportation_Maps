{
 "cells": [
  {
   "cell_type": "code",
   "execution_count": null,
   "id": "59a9a729",
   "metadata": {},
   "outputs": [],
   "source": [
    "from shapely.geometry import Point\n",
    "import pandas as pd\n",
    "import geopandas as gpd\n",
    "import matplotlib.pyplot as plt\n",
    "import folium\n",
    "from folium.plugins import MarkerCluster\n",
    "from folium.plugins import FastMarkerCluster"
   ]
  },
  {
   "cell_type": "code",
   "execution_count": null,
   "id": "2dc52333",
   "metadata": {},
   "outputs": [],
   "source": [
    "nyc = gpd.read_file('../data/Borough_Boundaries.geojson')\n",
    "print(nyc.crs)\n",
    "nyc.head()"
   ]
  },
  {
   "cell_type": "code",
   "execution_count": null,
   "id": "a438eff5",
   "metadata": {},
   "outputs": [],
   "source": [
    "type(nyc)"
   ]
  },
  {
   "cell_type": "code",
   "execution_count": null,
   "id": "bca592c2",
   "metadata": {},
   "outputs": [],
   "source": [
    "nyc.loc[0, 'geometry']"
   ]
  },
  {
   "cell_type": "code",
   "execution_count": null,
   "id": "ba501e2b",
   "metadata": {},
   "outputs": [],
   "source": [
    "print(nyc.loc[0, 'geometry'])"
   ]
  },
  {
   "cell_type": "code",
   "execution_count": null,
   "id": "38219206",
   "metadata": {},
   "outputs": [],
   "source": [
    "nyc.plot();"
   ]
  },
  {
   "cell_type": "code",
   "execution_count": null,
   "id": "3911979c",
   "metadata": {},
   "outputs": [],
   "source": [
    "leg_kwds = {'title': 'New York City Boroughs', 'loc': 'upper left', \n",
    "            'bbox_to_anchor': (1, 1.03), 'ncol': 2}\n",
    "\n",
    "nyc.plot(column = 'boro_name', figsize=(10, 10),\n",
    "              edgecolor = 'black',\n",
    "              legend = True, legend_kwds = leg_kwds, \n",
    "              cmap = 'Set2')\n",
    "plt.show()"
   ]
  },
  {
   "cell_type": "code",
   "execution_count": null,
   "id": "75701e99",
   "metadata": {},
   "outputs": [],
   "source": [
    "nj_bus = pd.read_csv('../data/NJ_Bus_Stops.csv')\n",
    "nj_bus.head()"
   ]
  },
  {
   "cell_type": "code",
   "execution_count": null,
   "id": "614715b5",
   "metadata": {},
   "outputs": [],
   "source": [
    "nj_bus = nj_bus[['County','NAME','Latitude','Longitude']]\n",
    "nj_bus.head()"
   ]
  },
  {
   "cell_type": "code",
   "execution_count": null,
   "id": "0e770ef4",
   "metadata": {},
   "outputs": [],
   "source": [
    "nj_bus['geometry'] = nj_bus.apply(lambda x: Point((x.Longitude, \n",
    "                                                         x.Latitude)), \n",
    "                                        axis=1)\n",
    "nj_bus.head(3)"
   ]
  },
  {
   "cell_type": "code",
   "execution_count": null,
   "id": "af1f4d1a",
   "metadata": {},
   "outputs": [],
   "source": [
    "njbus_geo = gpd.GeoDataFrame(nj_bus, \n",
    "                           crs = nyc.crs, \n",
    "                           geometry = nj_bus['geometry'])"
   ]
  },
  {
   "cell_type": "code",
   "execution_count": null,
   "id": "2e508ac8",
   "metadata": {},
   "outputs": [],
   "source": [
    "type(njbus_geo)"
   ]
  },
  {
   "cell_type": "code",
   "execution_count": null,
   "id": "2138be17",
   "metadata": {},
   "outputs": [],
   "source": [
    "nyc.crs"
   ]
  },
  {
   "cell_type": "code",
   "execution_count": null,
   "id": "c5da6361",
   "metadata": {},
   "outputs": [],
   "source": [
    "nyc_area_center = ['40.71','-74.00']\n",
    "print(nyc_area_center)"
   ]
  },
  {
   "cell_type": "code",
   "execution_count": null,
   "id": "6b825ed7",
   "metadata": {},
   "outputs": [],
   "source": [
    "map_nyc = folium.Map(location = nyc_area_center, zoom_start = 12)\n",
    "map_nyc"
   ]
  },
  {
   "cell_type": "code",
   "execution_count": null,
   "id": "bf8bb103",
   "metadata": {},
   "outputs": [],
   "source": [
    "i = 0\n",
    "for row_index, row_values in njbus_geo.iterrows():\n",
    "    if i <3: \n",
    "       print('index is', row_index)\n",
    "       print('values are:')\n",
    "       print(' ')\n",
    "       print(row_values)\n",
    "       print('------------------------- ')\n",
    "       i+=1"
   ]
  },
  {
   "cell_type": "code",
   "execution_count": null,
   "id": "06008031",
   "metadata": {},
   "outputs": [],
   "source": [
    "map_nyc = folium.Map(location =  nyc_area_center, zoom_start = 12)\n",
    "\n",
    "for row_index, row_values in nj_bus.iterrows():\n",
    "    loc = [row_values['Latitude'], row_values['Longitude']]\n",
    "    pop = str(row_values['NAME'])\n",
    "    icon=folium.Icon(color=\"red\",icon=\"bus\", prefix='fa')\n",
    "    marker = folium.Marker(\n",
    "    location = loc, \n",
    "    popup = pop, icon = icon)\n",
    "    marker.add_to(map_nyc)\n",
    "    \n",
    "map_nyc.save('../maps/nj_bus.html')\n",
    "\n",
    "map_nyc"
   ]
  },
  {
   "cell_type": "code",
   "execution_count": null,
   "id": "df0ad239",
   "metadata": {},
   "outputs": [],
   "source": [
    "cluster_map_nyc = folium.Map(location =  nyc_area_center, zoom_start = 12)\n",
    "\n",
    "marker_cluster = MarkerCluster().add_to(cluster_map_nyc)\n",
    "\n",
    "for row_index, row_values in nj_bus.iterrows():\n",
    "    loc = [row_values['Latitude'], row_values['Longitude']]\n",
    "    pop = str(row_values['NAME'])\n",
    "    icon=folium.Icon(color=\"red\",icon=\"bus\", prefix='fa')\n",
    "    marker = folium.Marker(\n",
    "    location = loc, \n",
    "    popup = pop, icon = icon)\n",
    "    marker.add_to(marker_cluster)\n",
    "    \n",
    "cluster_map_nyc.save('../maps/nj_bus_cluster.html')\n",
    "\n",
    "cluster_map_nyc"
   ]
  }
 ],
 "metadata": {
  "kernelspec": {
   "display_name": "Python 3 (ipykernel)",
   "language": "python",
   "name": "python3"
  },
  "language_info": {
   "codemirror_mode": {
    "name": "ipython",
    "version": 3
   },
   "file_extension": ".py",
   "mimetype": "text/x-python",
   "name": "python",
   "nbconvert_exporter": "python",
   "pygments_lexer": "ipython3",
   "version": "3.8.5"
  }
 },
 "nbformat": 4,
 "nbformat_minor": 5
}
